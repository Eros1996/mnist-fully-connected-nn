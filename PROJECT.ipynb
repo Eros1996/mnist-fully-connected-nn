{
 "cells": [
  {
   "cell_type": "markdown",
   "metadata": {},
   "source": [
    "                                              Machine Learning project 2018-2019 \n",
    "                                       Fully-connected neural network to recognize digit"
   ]
  },
  {
   "cell_type": "code",
   "execution_count": 1,
   "metadata": {},
   "outputs": [],
   "source": [
    "import os # processing file path\n",
    "import gzip # unzip the .gz file, not used here\n",
    "import numpy as np # linear algebra\n",
    "import matplotlib.pyplot as plt # data visualization\n",
    "\n",
    "from sklearn.model_selection import train_test_split # split train in validation"
   ]
  },
  {
   "cell_type": "markdown",
   "metadata": {},
   "source": [
    "Function that load the Mnist database and return the pixel of the images and the labels"
   ]
  },
  {
   "cell_type": "code",
   "execution_count": 2,
   "metadata": {},
   "outputs": [],
   "source": [
    "def load_mnist(path, kind):\n",
    "    labels_path = os.path.join(path,'%s-labels-idx1-ubyte.gz'% kind)\n",
    "    images_path = os.path.join(path,'%s-images-idx3-ubyte.gz'% kind)\n",
    "\n",
    "    lbpath = gzip.open(labels_path, 'rb')\n",
    "    labels = np.frombuffer(lbpath.read(), dtype=np.uint8,offset=8)\n",
    "\n",
    "    imgpath = gzip.open(images_path, 'rb')\n",
    "    images = np.frombuffer(imgpath.read(), dtype=np.uint8,offset=16).reshape(len(labels), 784)\n",
    "\n",
    "    return images, labels"
   ]
  },
  {
   "cell_type": "code",
   "execution_count": 3,
   "metadata": {},
   "outputs": [],
   "source": [
    "# Load the data\n",
    "try:\n",
    "   del X_train, y_train\n",
    "   del X_test, y_test\n",
    "   print('Clear previously loaded data.')\n",
    "except:\n",
    "   pass\n",
    "\n",
    "X_train, y_train = load_mnist('.\\input', kind='train')\n",
    "X_test, y_test = load_mnist('.\\input', kind='t10k')\n",
    "m_train = X_train.shape[0]\n",
    "m_test = X_test.shape[0]"
   ]
  },
  {
   "cell_type": "markdown",
   "metadata": {},
   "source": [
    "Print the shape of the train and test to know more about the data"
   ]
  },
  {
   "cell_type": "code",
   "execution_count": 4,
   "metadata": {},
   "outputs": [
    {
     "name": "stdout",
     "output_type": "stream",
     "text": [
      "X_train shape: (60000, 784)\n",
      "y_train shape: (60000,)\n",
      "X_test shape: (10000, 784)\n",
      "y_test shape: (10000,)\n"
     ]
    }
   ],
   "source": [
    "print(\"X_train shape: \" + str(X_train.shape))\n",
    "print(\"y_train shape: \" + str(y_train.shape))\n",
    "print(\"X_test shape: \" + str(X_test.shape))\n",
    "print(\"y_test shape: \" + str(y_test.shape))"
   ]
  },
  {
   "cell_type": "markdown",
   "metadata": {},
   "source": [
    "Show images from the train set to understand better the task"
   ]
  },
  {
   "cell_type": "code",
   "execution_count": 5,
   "metadata": {},
   "outputs": [
    {
     "data": {
      "image/png": "[encoded data removed]",
      "text/plain": [
       "<Figure size 432x432 with 9 Axes>"
      ]
     },
     "metadata": {
      "needs_background": "light"
     },
     "output_type": "display_data"
    }
   ],
   "source": [
    "plt.rcParams['figure.figsize'] = [6.0, 6.0]\n",
    "np.random.seed(0);\n",
    "indices = list(np.random.randint(m_train,size=9))\n",
    "for i in range(9):\n",
    "    plt.subplot(3,3,i+1)\n",
    "    plt.imshow(X_train[indices[i]].reshape(28,28), cmap='gray', interpolation='none')\n",
    "    plt.title(\"Index {} Class {}\".format(indices[i], y_train[indices[i]]))\n",
    "    plt.tight_layout()"
   ]
  },
  {
   "cell_type": "markdown",
   "metadata": {},
   "source": [
    "Zero-centered the data"
   ]
  },
  {
   "cell_type": "code",
   "execution_count": 6,
   "metadata": {},
   "outputs": [
    {
     "name": "stdout",
     "output_type": "stream",
     "text": [
      "X_train shape: (54000, 784)\n",
      "y_train shape: (54000,)\n",
      "X_val shape: (6000, 784)\n",
      "y_val shape: (6000,)\n",
      "X_test shape: (10000, 784)\n",
      "y_test shape: (10000,)\n"
     ]
    }
   ],
   "source": [
    "X_train, X_val, Y_train, Y_val = train_test_split(X_train, y_train, test_size = 0.1, random_state=2)\n",
    "\n",
    "X_train = X_train - np.mean(X_train, axis = 0)\n",
    "X_test = X_test - np.mean(X_test, axis = 0)\n",
    "X_val = X_val - np.mean(X_val, axis = 0)\n",
    "\n",
    "print(\"X_train shape: \" + str(X_train.shape))\n",
    "print(\"y_train shape: \" + str(Y_train.shape))\n",
    "print(\"X_val shape: \" + str(X_val.shape))\n",
    "print(\"y_val shape: \" + str(Y_val.shape))\n",
    "print(\"X_test shape: \" + str(X_test.shape))\n",
    "print(\"y_test shape: \" + str(y_test.shape))"
   ]
  },
  {
   "cell_type": "markdown",
   "metadata": {},
   "source": [
    "This class implements the two layers neural network: \n",
    "            1) initialize the weight with small random numbers and the bias with a matrix of zeros.\n",
    "            2) the Train function runs over a mini-batch of size batch-size (1000) and try to train the model to find the best value of weight and bias using stochastic gradient descent to update and backpropagation to compute the gradients of the functions.\n",
    "            3) the Loss function is called from the Train function to compute the cross-entropy loss with L2 regularization and to compute the gradients.\n",
    "            4)the Predict function compute the score of each image in the dataset with the current values of weight and bias and then take the max.\n",
    "            5) Relu and softmax function compute the score of the images for each labels"
   ]
  },
  {
   "cell_type": "code",
   "execution_count": 7,
   "metadata": {},
   "outputs": [],
   "source": [
    "class TwoLayerNet():    \n",
    "    \n",
    "    def __init__(self, input_size, hidden_size, output_size, std=1e-4): \n",
    "        self.W1=  std*np.random.randn(input_size, hidden_size)  \n",
    "        self.b1= np.zeros((1, hidden_size))     \n",
    "        self.W2=  std*np.random.randn(hidden_size, output_size)  \n",
    "        self.b2= np.zeros((1, output_size))\n",
    "\n",
    "    def loss(self, X, y, reg):\n",
    "        W1, b1 = self.W1, self.b1  # 784x10, 1x10\n",
    "        W2, b2 = self.W2, self.b2  # 10x10, 1x10\n",
    "        N, D = X.shape # 1000, 784\n",
    "        \n",
    "        # Compute the forward pass\n",
    "        h1 = ReLU(np.dot(X, W1) + b1) #(N,10)\n",
    "        scores = np.dot(h1, W2) + b2 #(N,10)\n",
    "\n",
    "        probs = softmax(scores)  #(N,10)  \n",
    "        \n",
    "         # Compute the loss\n",
    "        correct_logprobs = -np.log(probs[range(N), y])        #(N,) cross-entropy loss       \n",
    "        data_loss = np.sum(correct_logprobs) / N       \n",
    "        reg_loss =  1/2*reg*(np.sum(W1*W1) + np.sum(W2*W2))  # L2 regularization\n",
    "        loss = data_loss + reg_loss\n",
    "        \n",
    "        # Backward pass: compute gradients\n",
    "        \n",
    "        # backpropagation with chain role for softmax\n",
    "        dscores = probs                                 \n",
    "        dscores[range(N), y] -= 1                       \n",
    "        dscores /= N  \n",
    "\n",
    "        # backpropagation with chain role for scores\n",
    "        dW2 = np.dot(h1.T, dscores)                # (H,C)\n",
    "        db2 = np.sum(dscores, axis=0, keepdims=True)    # (1,C)\n",
    "        dh1 = np.dot(dscores, W2.T)                     # (N,H)\n",
    "        \n",
    "        dh1[h1 <= 0] = 0   #relu\n",
    "        \n",
    "        # backpropagation with chain role for h1\n",
    "        dW1 = np.dot(X.T, dh1)                      # (D,H)\n",
    "        db1 = np.sum(dh1, axis=0, keepdims=True)        # (1,H)\n",
    "        \n",
    "        dW2 += (reg/N) * W2\n",
    "        dW1 += (reg/N) * W1\n",
    "        \n",
    "        return loss, dW1, db1, dW2, db2 \n",
    "\n",
    "    def train(self, X, y, X_val, y_val, learning_rate, reg, num_epochs, batch_size, verbose=False):   \n",
    "        \n",
    "        num_train = X.shape[0]\n",
    "        iterations_per_epoch = max(int(num_train / batch_size), 1) # 54000/1000 = 54\n",
    "        \n",
    "        # Use SGD to optimize the parameters \n",
    "        loss_history = []\n",
    "        train_acc_history = []\n",
    "        val_acc_history = []\n",
    "        \n",
    "        for it in range(1, num_epochs * iterations_per_epoch + 1):   # one epoch is 54 iterations of different minibatch\n",
    "            # Create a random minibatch of training data and labels\n",
    "            sample_index = np.random.choice(num_train, batch_size, replace=True)   \n",
    "            X_batch = X[sample_index, :]    # 1000x784      \n",
    "            y_batch = y[sample_index]   # 1000     \n",
    "            \n",
    "            # Compute loss and gradients using the current minibatch\n",
    "            loss, dW1, db1, dW2, db2 = self.loss(X_batch, y=y_batch, reg=reg) \n",
    "            loss_history.append(loss)\n",
    "                     \n",
    "            # Use the gradients to update the parameters of the network             \n",
    "            self.W2 += - learning_rate * dW2 \n",
    "            self.b2 += - learning_rate * db2\n",
    "            self.W1 += - learning_rate * dW1\n",
    "            self.b1 += - learning_rate * db1\n",
    "            \n",
    "            if verbose and it % iterations_per_epoch == 0:    \n",
    "            # Every epoch, check train and val accuracy and decay learning rate. \n",
    "                epoch = it / iterations_per_epoch\n",
    "                train_acc, val_acc = self.info(X_batch, y_batch, X_val, y_val)\n",
    "                train_acc_history.append(train_acc)    \n",
    "                val_acc_history.append(val_acc) \n",
    "                print(\"epoch %d / %d: loss %f, train_acc: %f, val_acc: %f\" %(epoch, num_epochs, loss, train_acc, val_acc))\n",
    "                 \n",
    "                learning_rate *= 1/np.sqrt(epoch) # update the step in the gradient descent \n",
    "                \n",
    "                \n",
    "        return loss_history, train_acc_history, val_acc_history\n",
    "\n",
    "    def predict(self, X):       \n",
    "        h1 = ReLU(np.dot(X, self.W1) + self.b1)    \n",
    "        scores = np.dot(h1, self.W2) + self.b2   \n",
    "        y_pred = np.argmax(scores, axis=1)    \n",
    "        return y_pred\n",
    "\n",
    "    def info(self, X_batch, y_batch, X_val, y_val):   \n",
    "        train_acc = (self.predict(X_batch) == y_batch).mean()    \n",
    "        val_acc = (self.predict(X_val) == y_val).mean()        \n",
    "        return train_acc, val_acc\n",
    "    \n",
    "def ReLU(x):        \n",
    "    return np.maximum(0, x)\n",
    "\n",
    "def softmax(scores):\n",
    "    scores_max = np.max(scores, axis=1, keepdims=True)    # (N,1)\n",
    "    exp_scores = np.exp(scores - scores_max)              # (N,10) trick for numerical stability\n",
    "    probs = exp_scores / np.sum(exp_scores, axis=1, keepdims=True) # (N,10)\n",
    "    return probs"
   ]
  },
  {
   "cell_type": "markdown",
   "metadata": {},
   "source": [
    "Run all a first time with a fixed learning rate and regularization strength to see if the model we built is doing a pretty good job"
   ]
  },
  {
   "cell_type": "code",
   "execution_count": 8,
   "metadata": {},
   "outputs": [
    {
     "name": "stdout",
     "output_type": "stream",
     "text": [
      "epoch 1 / 10: loss 2.225601, train_acc: 0.305000, val_acc: 0.308000\n",
      "epoch 2 / 10: loss 1.086690, train_acc: 0.578000, val_acc: 0.563000\n",
      "epoch 3 / 10: loss 0.861453, train_acc: 0.695000, val_acc: 0.707167\n",
      "epoch 4 / 10: loss 0.683239, train_acc: 0.799000, val_acc: 0.789667\n",
      "epoch 5 / 10: loss 0.627492, train_acc: 0.801000, val_acc: 0.808833\n",
      "epoch 6 / 10: loss 0.619915, train_acc: 0.826000, val_acc: 0.820333\n",
      "epoch 7 / 10: loss 0.604876, train_acc: 0.821000, val_acc: 0.822500\n",
      "epoch 8 / 10: loss 0.553280, train_acc: 0.838000, val_acc: 0.823667\n",
      "epoch 9 / 10: loss 0.561810, train_acc: 0.839000, val_acc: 0.824167\n",
      "epoch 10 / 10: loss 0.630385, train_acc: 0.817000, val_acc: 0.824333\n"
     ]
    }
   ],
   "source": [
    "input_size = X_train.shape[1] #784\n",
    "hidden_size = 10\n",
    "num_classes = 10\n",
    "net = TwoLayerNet(input_size, hidden_size, num_classes)\n",
    "\n",
    "# Train the network\n",
    "loss_history, train_acc_history, val_acc_history = net.train(X_train, Y_train, X_val, Y_val,\n",
    "            num_epochs=10, batch_size=1000,\n",
    "            learning_rate=1e-3,\n",
    "            reg=0.25, verbose=True)"
   ]
  },
  {
   "cell_type": "markdown",
   "metadata": {},
   "source": [
    "Plot the loss function (cross-entropy function with L2 regularization) and the train/ validation accuracies to visualize what is going on and to understand if we are overfitting"
   ]
  },
  {
   "cell_type": "code",
   "execution_count": 9,
   "metadata": {},
   "outputs": [
    {
     "data": {
      "image/png": "[encoded data removed]",
      "text/plain": [
       "<Figure size 720x576 with 2 Axes>"
      ]
     },
     "metadata": {
      "needs_background": "light"
     },
     "output_type": "display_data"
    }
   ],
   "source": [
    "plt.rcParams['figure.figsize'] = (10.0, 8.0) # set default size of plots\n",
    "plt.rcParams['image.interpolation'] = 'nearest'\n",
    "plt.rcParams['image.cmap'] = 'gray'\n",
    "plt.subplots_adjust(wspace =0, hspace =0.3)\n",
    "\n",
    "\n",
    "# Plot the loss function and train / validation accuracies\n",
    "\n",
    "plt.subplot(2, 1, 1)\n",
    "plt.plot(loss_history)\n",
    "plt.title('Loss history')\n",
    "plt.xlabel('Iteration')\n",
    "plt.ylabel('Loss')\n",
    "\n",
    "plt.subplot(2, 1, 2)\n",
    "plt.plot(train_acc_history , label='train')\n",
    "plt.plot(val_acc_history, label='val')\n",
    "plt.title('Classification accuracy history')\n",
    "plt.xlabel('Epoch')\n",
    "plt.ylabel('Clasification accuracy')\n",
    "plt.legend()\n",
    "plt.show()"
   ]
  },
  {
   "cell_type": "markdown",
   "metadata": {},
   "source": [
    "Here we try different values of learning rates and regularization strengths on train and validation dataset to find the best values in order to reach the highest accuracy "
   ]
  },
  {
   "cell_type": "code",
   "execution_count": 10,
   "metadata": {},
   "outputs": [
    {
     "name": "stdout",
     "output_type": "stream",
     "text": [
      "lr 2.500000e-03 reg 2.500000e-01 val accuracy: 0.914500\n",
      "lr 2.500000e-03 reg 5.000000e-01 val accuracy: 0.919667\n",
      "lr 2.500000e-03 reg 7.500000e-01 val accuracy: 0.924500\n",
      "lr 2.500000e-03 reg 1.000000e+00 val accuracy: 0.923333\n",
      "lr 5.000000e-03 reg 2.500000e-01 val accuracy: 0.926000\n",
      "lr 5.000000e-03 reg 5.000000e-01 val accuracy: 0.928833\n",
      "lr 5.000000e-03 reg 7.500000e-01 val accuracy: 0.925833\n",
      "lr 5.000000e-03 reg 1.000000e+00 val accuracy: 0.925833\n",
      "lr 7.500000e-03 reg 2.500000e-01 val accuracy: 0.928333\n",
      "lr 7.500000e-03 reg 5.000000e-01 val accuracy: 0.927000\n",
      "lr 7.500000e-03 reg 7.500000e-01 val accuracy: 0.924500\n",
      "lr 7.500000e-03 reg 1.000000e+00 val accuracy: 0.926667\n",
      "lr 1.000000e-02 reg 2.500000e-01 val accuracy: 0.925333\n",
      "lr 1.000000e-02 reg 5.000000e-01 val accuracy: 0.927667\n",
      "lr 1.000000e-02 reg 7.500000e-01 val accuracy: 0.922500\n",
      "lr 1.000000e-02 reg 1.000000e+00 val accuracy: 0.924833\n",
      "best validation accuracy achieved during cross-validation: 0.928833\n"
     ]
    }
   ],
   "source": [
    "hidden_size = 10\n",
    "num_classes = 10\n",
    "\n",
    "results = {}\n",
    "best_val = -1\n",
    "best_net = None\n",
    "\n",
    "learning_rates = np.array([2.5,5,7.5,10])*1e-3\n",
    "regularization_strengths = [0.25,0.5,0.75,1]   \n",
    "\n",
    "for lr in learning_rates:\n",
    "    for reg in regularization_strengths:\n",
    "        net = TwoLayerNet(input_size, hidden_size, num_classes)\n",
    "        loss_history, train_acc_history, val_acc_history = net.train(X_train, Y_train, X_val, Y_val,\n",
    "        num_epochs=10, batch_size=1000,\n",
    "        learning_rate=lr,\n",
    "        reg= reg, verbose=False)\n",
    "        val_acc = (net.predict(X_val) == Y_val).mean()\n",
    "        if val_acc > best_val:\n",
    "            best_val = val_acc\n",
    "            best_net = net         \n",
    "        results[(lr,reg)] = val_acc\n",
    "\n",
    "\n",
    "for lr, reg in sorted(results):\n",
    "    val_acc = results[(lr, reg)]\n",
    "    print('lr %e reg %e val accuracy: %f' % (\n",
    "                lr, reg,  val_acc))\n",
    "    \n",
    "print('best validation accuracy achieved during cross-validation: %f' % best_val)"
   ]
  },
  {
   "cell_type": "code",
   "execution_count": 11,
   "metadata": {},
   "outputs": [
    {
     "name": "stdout",
     "output_type": "stream",
     "text": [
      "Test accuracy:  0.9348\n"
     ]
    }
   ],
   "source": [
    "y_pred = best_net.predict(X_test)\n",
    "test_acc = (y_pred == y_test).mean()\n",
    "print('Test accuracy: ', test_acc)"
   ]
  },
  {
   "cell_type": "code",
   "execution_count": 12,
   "metadata": {},
   "outputs": [],
   "source": [
    "def confusion_matrix_builder(y_test, y_pred):\n",
    "    confusion_matrix = np.zeros((10,10), dtype=int)\n",
    "    for i in range(len(y_test)):\n",
    "\n",
    "        if(y_pred[i] == y_test[i]):\n",
    "            confusion_matrix[y_pred[i]][y_pred[i]] += 1\n",
    "        elif(y_pred[i] != y_test[i]):\n",
    "            confusion_matrix[y_test[i]][y_pred[i]] += 1\n",
    "            \n",
    "    return confusion_matrix            \n"
   ]
  },
  {
   "cell_type": "markdown",
   "metadata": {},
   "source": [
    "Print the confusion matrix in order to understand what the model recognized better and what worst.\n",
    "The rows of the matrix represent the true label of the images and the columns represent the label that the model predicted.\n",
    "In this way the diagonal of the matrix represent the number of digits that we predicted good."
   ]
  },
  {
   "cell_type": "code",
   "execution_count": 13,
   "metadata": {},
   "outputs": [
    {
     "name": "stdout",
     "output_type": "stream",
     "text": [
      "[[ 958    0    3    0    1    4    9    2    3    0]\n",
      " [   0 1113    3    2    1    2    1    1   12    0]\n",
      " [   8   11  951   10    8    2   10    9   20    3]\n",
      " [   2    3   31  921    0   19    1    8   14   11]\n",
      " [   1    0    4    0  913    1   11    1    2   49]\n",
      " [  10    5    5   13    7  806   11    3   29    3]\n",
      " [   9    2    8    1    6    8  922    0    2    0]\n",
      " [   1    7   25    9    3    0    1  950    0   32]\n",
      " [   5   10   12   18   12   16    8    4  875   14]\n",
      " [   6    5    1   12   25    7    0   11    3  939]]\n"
     ]
    }
   ],
   "source": [
    "myConfusion_matrix = confusion_matrix_builder(y_test, y_pred)\n",
    "print(myConfusion_matrix)"
   ]
  },
  {
   "cell_type": "markdown",
   "metadata": {},
   "source": [
    "Just print 3 number we fail when predicting to undersand better how bad or good our model is, compared with human recognition"
   ]
  },
  {
   "cell_type": "code",
   "execution_count": 14,
   "metadata": {},
   "outputs": [
    {
     "data": {
      "image/png": "[encoded data removed]",
      "text/plain": [
       "<Figure size 720x576 with 3 Axes>"
      ]
     },
     "metadata": {
      "needs_background": "light"
     },
     "output_type": "display_data"
    }
   ],
   "source": [
    "errors = (y_pred - y_test != 0)\n",
    "\n",
    "Y_pred_errors = y_pred[errors]\n",
    "Y_true_errors = y_test[errors]\n",
    "X_true_errors = X_test[errors]\n",
    "\n",
    "\n",
    "def display_errors(Y_pred_errors, Y_true_errors, X_true_errors):\n",
    "    r = 0\n",
    "    fig, ax = plt.subplots(3,sharex=True,sharey=True)\n",
    "    for i in range(3):\n",
    "        ax[r].imshow(X_true_errors[i].reshape(28,28))\n",
    "        ax[r].set_title(\"True label: {} - predicted label: {}\".format(Y_true_errors[i], Y_pred_errors[i]))\n",
    "        r +=1\n",
    "\n",
    "display_errors(Y_pred_errors, Y_true_errors, X_true_errors)"
   ]
  },
  {
   "cell_type": "code",
   "execution_count": null,
   "metadata": {},
   "outputs": [],
   "source": []
  }
 ],
 "metadata": {
  "kernelspec": {
   "display_name": "Python 3",
   "language": "python",
   "name": "python3"
  },
  "language_info": {
   "codemirror_mode": {
    "name": "ipython",
    "version": 3
   },
   "file_extension": ".py",
   "mimetype": "text/x-python",
   "name": "python",
   "nbconvert_exporter": "python",
   "pygments_lexer": "ipython3",
   "version": "3.7.0"
  }
 },
 "nbformat": 4,
 "nbformat_minor": 2
}
